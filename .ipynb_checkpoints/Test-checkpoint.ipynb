{
 "cells": [
  {
   "cell_type": "code",
   "execution_count": 2,
   "metadata": {},
   "outputs": [
    {
     "data": {
      "application/vnd.jupyter.widget-view+json": {
       "model_id": "63b182716ac44edcb2186dd39f0ad0d1",
       "version_major": 2,
       "version_minor": 0
      },
      "text/plain": [
       "Figure(layout=FigureLayout(height='420px'))"
      ]
     },
     "metadata": {},
     "output_type": "display_data"
    }
   ],
   "source": [
    "import gmaps\n",
    "\n",
    "#configure api\n",
    "f = open(\"key.txt\", \"r\")\n",
    "KEY = f.readlines()[0]\n",
    "gmaps.configure(api_key=KEY)\n",
    "\n",
    "#Define location 1 and 2\n",
    "Durango = (37.2753,-107.880067)\n",
    "SF = (37.7749,-122.419416)\n",
    "\n",
    "#Create the map\n",
    "fig = gmaps.figure()\n",
    "\n",
    "#create the layer\n",
    "layer = gmaps.directions.Directions(Durango, SF, mode='car')\n",
    "\n",
    "#Add the layer\n",
    "fig.add_layer(layer)\n",
    "\n",
    "#not displaying but should\n",
    "fig"
   ]
  },
  {
   "cell_type": "code",
   "execution_count": null,
   "metadata": {},
   "outputs": [],
   "source": []
  }
 ],
 "metadata": {
  "kernelspec": {
   "display_name": "Python 3",
   "language": "python",
   "name": "python3"
  },
  "language_info": {
   "codemirror_mode": {
    "name": "ipython",
    "version": 3
   },
   "file_extension": ".py",
   "mimetype": "text/x-python",
   "name": "python",
   "nbconvert_exporter": "python",
   "pygments_lexer": "ipython3",
   "version": "3.7.4"
  }
 },
 "nbformat": 4,
 "nbformat_minor": 2
}
